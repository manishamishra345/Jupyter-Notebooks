{
 "cells": [
  {
   "cell_type": "markdown",
   "id": "a88bf288",
   "metadata": {},
   "source": [
    "#### This report reads the All Incoming Students (Deposited only) and OPS Photo_Data files, Admitted Grad students from Reports and compares GTID in both files to provide photo submission status. IDs are also compared in DB to update photo status, as some IDs with no photos in OPS may have photos in TS."
   ]
  },
  {
   "cell_type": "code",
   "execution_count": 9,
   "id": "d86d5c1f",
   "metadata": {},
   "outputs": [],
   "source": [
    "import pandas as pd\n",
    "import datetime as dt\n",
    "from datetime import datetime\n",
    "currentDateTime = datetime.now().strftime(\"%m-%d-%Y %H%M%S %p\")\n",
    "#currentDateTime = datetime.now().strftime(\"%m-%d-%Y\")\n",
    "import warnings\n",
    "warnings.simplefilter(\"ignore\")"
   ]
  },
  {
   "cell_type": "markdown",
   "id": "b5b8b002",
   "metadata": {},
   "source": [
    "#### Read the FASET student file, OPS file and Reports file and create three data frames-dfu- undergrad, dfp-photo, dfg-grad students file"
   ]
  },
  {
   "cell_type": "code",
   "execution_count": 10,
   "id": "14d85b9b",
   "metadata": {},
   "outputs": [],
   "source": [
    "#Read the FASET student file and create data frames \n",
    "dfu = pd.read_csv('C:/Users/FASET.csv',usecols=[6,7,8])\n",
    "dfp = pd.read_csv ('C:/Users/Photo_Data.csv',usecols=[0,2])\n",
    "dfg = pd.read_excel('C:/Users/admitted by term.xlsx',usecols=[0,1,2,10],engine=\"openpyxl\")\n"
   ]
  },
  {
   "cell_type": "markdown",
   "id": "d1d365bb",
   "metadata": {},
   "source": [
    "### Run the following if you want to know details about any dataframes before data cleansing"
   ]
  },
  {
   "cell_type": "code",
   "execution_count": 11,
   "id": "d174ddd9",
   "metadata": {},
   "outputs": [
    {
     "data": {
      "text/plain": [
       "(360, 3)"
      ]
     },
     "execution_count": 11,
     "metadata": {},
     "output_type": "execute_result"
    }
   ],
   "source": [
    "dfu.shape\n",
    "#dfg.shape"
   ]
  },
  {
   "cell_type": "code",
   "execution_count": 13,
   "id": "70127f05",
   "metadata": {},
   "outputs": [],
   "source": [
    "#dfu.head()"
   ]
  },
  {
   "cell_type": "code",
   "execution_count": 13,
   "id": "cf303dba",
   "metadata": {},
   "outputs": [],
   "source": [
    "#dfu.groupby(['Student Type']).count()"
   ]
  },
  {
   "cell_type": "code",
   "execution_count": 14,
   "id": "a61cd4a7",
   "metadata": {},
   "outputs": [
    {
     "data": {
      "text/html": [
       "<div>\n",
       "<style scoped>\n",
       "    .dataframe tbody tr th:only-of-type {\n",
       "        vertical-align: middle;\n",
       "    }\n",
       "\n",
       "    .dataframe tbody tr th {\n",
       "        vertical-align: top;\n",
       "    }\n",
       "\n",
       "    .dataframe thead th {\n",
       "        text-align: right;\n",
       "    }\n",
       "</style>\n",
       "<table border=\"1\" class=\"dataframe\">\n",
       "  <thead>\n",
       "    <tr style=\"text-align: right;\">\n",
       "      <th></th>\n",
       "      <th>ID</th>\n",
       "      <th>Last Name</th>\n",
       "      <th>First Name</th>\n",
       "    </tr>\n",
       "    <tr>\n",
       "      <th>Campus</th>\n",
       "      <th></th>\n",
       "      <th></th>\n",
       "      <th></th>\n",
       "    </tr>\n",
       "  </thead>\n",
       "  <tbody>\n",
       "    <tr>\n",
       "      <th>1</th>\n",
       "      <td>122</td>\n",
       "      <td>122</td>\n",
       "      <td>122</td>\n",
       "    </tr>\n",
       "    <tr>\n",
       "      <th>3</th>\n",
       "      <td>2</td>\n",
       "      <td>2</td>\n",
       "      <td>2</td>\n",
       "    </tr>\n",
       "    <tr>\n",
       "      <th>A</th>\n",
       "      <td>231</td>\n",
       "      <td>231</td>\n",
       "      <td>231</td>\n",
       "    </tr>\n",
       "    <tr>\n",
       "      <th>EM</th>\n",
       "      <td>67</td>\n",
       "      <td>67</td>\n",
       "      <td>67</td>\n",
       "    </tr>\n",
       "    <tr>\n",
       "      <th>GC</th>\n",
       "      <td>18</td>\n",
       "      <td>18</td>\n",
       "      <td>18</td>\n",
       "    </tr>\n",
       "    <tr>\n",
       "      <th>J</th>\n",
       "      <td>53</td>\n",
       "      <td>53</td>\n",
       "      <td>53</td>\n",
       "    </tr>\n",
       "    <tr>\n",
       "      <th>O</th>\n",
       "      <td>5299</td>\n",
       "      <td>5299</td>\n",
       "      <td>5299</td>\n",
       "    </tr>\n",
       "  </tbody>\n",
       "</table>\n",
       "</div>"
      ],
      "text/plain": [
       "          ID  Last Name  First Name\n",
       "Campus                             \n",
       "1        122        122         122\n",
       "3          2          2           2\n",
       "A        231        231         231\n",
       "EM        67         67          67\n",
       "GC        18         18          18\n",
       "J         53         53          53\n",
       "O       5299       5299        5299"
      ]
     },
     "execution_count": 14,
     "metadata": {},
     "output_type": "execute_result"
    }
   ],
   "source": [
    "dfg.groupby(['Campus']).count()"
   ]
  },
  {
   "cell_type": "markdown",
   "id": "d61a5c5a",
   "metadata": {},
   "source": [
    "### Prep OPS data, Undergrad SLATE data and Grad Reports data"
   ]
  },
  {
   "cell_type": "code",
   "execution_count": 15,
   "id": "7f3babfa",
   "metadata": {},
   "outputs": [],
   "source": [
    "#process the OPS photo data\n",
    "# removes leading 0s from the identifier fieled\n",
    "dfp['identifier'] = dfp['identifier'].str.lstrip('0')\n",
    "\n",
    "#renames the identifier field name to GTID\n",
    "dfp=dfp.rename(columns = {'identifier':'GTID'})\n",
    "\n",
    "#drop rows with null values for GTID\n",
    "dfp = dfp[dfp['GTID'].notna()]\n",
    "\n",
    "# find the size of ops file after data formatting\n",
    "dfp.shape \n",
    "\n",
    "########################################################################################\n",
    "#Process Undergrad admissions data ##\n",
    "\n",
    "#filter for only Transfer and First-Year students\n",
    "dfu = dfu.apply(lambda row: row[dfu['Student Type'].isin(['First-year','Transfer'])])\n",
    "\n",
    "#if the data type is not same the merge will not work\n",
    "# convert int64 to object type data\n",
    "dfu['GTID'] = dfu['GTID'].apply(lambda x: str(x))\n",
    "dfu['GTID'].astype(int).astype(str)\n",
    "\n",
    "#########################################################################################\n",
    "#process Grad admissions data ##\n",
    "\n",
    "#prep the grad admitted data first\n",
    "#filtering index for Campuses not in 'A' and 'EM'\n",
    "#indexes = dfg[ (dfg['Campus'] != 'A') & (dfg['Campus'] != 'EM') ].index\n",
    "indexes = dfg[ (dfg['Campus'] != 'A') ].index\n",
    "#droping mutiple rows based on column value\n",
    "dfg.drop(indexes,inplace=True)\n",
    "\n",
    "#renames the identifier field name to GTID\n",
    "dfg=dfg.rename(columns = {'ID':'GTID'})\n",
    "\n",
    "#if the data type is not same the merge will not work\n",
    "#dfg['GTID'] = dfg['GTID'].apply(lambda x: str(x))\n",
    "#dfg['GTID'].astype(int).astype(str)"
   ]
  },
  {
   "cell_type": "code",
   "execution_count": 71,
   "id": "0984170f",
   "metadata": {},
   "outputs": [],
   "source": [
    "#dfu.groupby(['Student Type']).count()"
   ]
  },
  {
   "cell_type": "markdown",
   "id": "d47426a6",
   "metadata": {},
   "source": [
    "### Merge Undergrad, Grad and OPS data. Combine the two data frames for grad and undergrad data"
   ]
  },
  {
   "cell_type": "code",
   "execution_count": 7,
   "id": "77ddec14",
   "metadata": {},
   "outputs": [
    {
     "data": {
      "text/html": [
       "<div>\n",
       "<style scoped>\n",
       "    .dataframe tbody tr th:only-of-type {\n",
       "        vertical-align: middle;\n",
       "    }\n",
       "\n",
       "    .dataframe tbody tr th {\n",
       "        vertical-align: top;\n",
       "    }\n",
       "\n",
       "    .dataframe thead th {\n",
       "        text-align: right;\n",
       "    }\n",
       "</style>\n",
       "<table border=\"1\" class=\"dataframe\">\n",
       "  <thead>\n",
       "    <tr style=\"text-align: right;\">\n",
       "      <th></th>\n",
       "      <th></th>\n",
       "      <th>GTID</th>\n",
       "    </tr>\n",
       "    <tr>\n",
       "      <th>Photo Status</th>\n",
       "      <th>Class</th>\n",
       "      <th></th>\n",
       "    </tr>\n",
       "  </thead>\n",
       "  <tbody>\n",
       "    <tr>\n",
       "      <th rowspan=\"2\" valign=\"top\">Approved</th>\n",
       "      <th>Grad</th>\n",
       "      <td>92</td>\n",
       "    </tr>\n",
       "    <tr>\n",
       "      <th>Undergrad</th>\n",
       "      <td>105</td>\n",
       "    </tr>\n",
       "    <tr>\n",
       "      <th rowspan=\"2\" valign=\"top\">Denied</th>\n",
       "      <th>Grad</th>\n",
       "      <td>7</td>\n",
       "    </tr>\n",
       "    <tr>\n",
       "      <th>Undergrad</th>\n",
       "      <td>4</td>\n",
       "    </tr>\n",
       "    <tr>\n",
       "      <th rowspan=\"2\" valign=\"top\">Not Submitted</th>\n",
       "      <th>Grad</th>\n",
       "      <td>131</td>\n",
       "    </tr>\n",
       "    <tr>\n",
       "      <th>Undergrad</th>\n",
       "      <td>248</td>\n",
       "    </tr>\n",
       "    <tr>\n",
       "      <th rowspan=\"2\" valign=\"top\">Pending</th>\n",
       "      <th>Grad</th>\n",
       "      <td>1</td>\n",
       "    </tr>\n",
       "    <tr>\n",
       "      <th>Undergrad</th>\n",
       "      <td>3</td>\n",
       "    </tr>\n",
       "  </tbody>\n",
       "</table>\n",
       "</div>"
      ],
      "text/plain": [
       "                         GTID\n",
       "Photo Status  Class          \n",
       "Approved      Grad         92\n",
       "              Undergrad   105\n",
       "Denied        Grad          7\n",
       "              Undergrad     4\n",
       "Not Submitted Grad        131\n",
       "              Undergrad   248\n",
       "Pending       Grad          1\n",
       "              Undergrad     3"
      ]
     },
     "execution_count": 7,
     "metadata": {},
     "output_type": "execute_result"
    }
   ],
   "source": [
    "################################################################################\n",
    "#Merge Undergrad and OPS data\n",
    "# using merge function by setting how='left' merge two csv files on GTID\n",
    "#Join OPS file dfp with Undergrad student file dfu\n",
    "dfu = pd.merge(dfu, dfp, \n",
    "                   on='GTID', \n",
    "                   how='left')\n",
    "\n",
    "#replace NaN with Not SUbmitted\n",
    "dfu['Photo Status'] = dfu['Photo Status'].fillna('Not Submitted')\n",
    "\n",
    "#select the GTID and Photo Status column only\n",
    "dfu = dfu.iloc[0:,[0,3]]\n",
    "\n",
    "#show the Photo Status distribution--\n",
    "#dfu.groupby(['Photo Status']).count()\n",
    "\n",
    "###################################################################################\n",
    "#Merge Grad data and OPS data\n",
    "# using merge function by setting how='left' merge two csv files on GTID\n",
    "#Join OPS file dfp with Grad student file dfu\n",
    "dfg = pd.merge(dfg, dfp, \n",
    "                   on='GTID', \n",
    "                   how='left')\n",
    "\n",
    "#replace NaN with Not SUbmitted\n",
    "dfg['Photo Status'] = dfg['Photo Status'].fillna('Not Submitted')\n",
    "\n",
    "#select the GTID and Photo Status column only\n",
    "dfg = dfg.iloc[0:,[0,4]]\n",
    "\n",
    "#show the Photo Status distribution--\n",
    "#dfg.groupby(['Photo Status']).count()\n",
    "\n",
    "dfu['Class'] = 'Undergrad'\n",
    "dfg['Class'] = 'Grad'\n",
    "\n",
    "### Combine the two final dataframes to one\n",
    "frames = [dfu,dfg]\n",
    "dfc=pd.concat(frames)\n",
    "\n",
    "#show the Photo Status distribution by Class--\n",
    "dfc.groupby(['Photo Status','Class']).count()"
   ]
  },
  {
   "cell_type": "code",
   "execution_count": 31,
   "id": "ab4753cc",
   "metadata": {},
   "outputs": [
    {
     "data": {
      "text/plain": [
       "(595, 3)"
      ]
     },
     "execution_count": 31,
     "metadata": {},
     "output_type": "execute_result"
    }
   ],
   "source": [
    "dfc.shape"
   ]
  },
  {
   "cell_type": "markdown",
   "id": "8b07b2fd",
   "metadata": {},
   "source": [
    "### Grab the \"Not Submitted\"  IDs from the above report (Grad and Undergrad) and compare in DB, if they have photos submitted"
   ]
  },
  {
   "cell_type": "code",
   "execution_count": 8,
   "id": "fed4aa68",
   "metadata": {},
   "outputs": [],
   "source": [
    "# Grab the \"Not Submitted\" GTIDs from the above report and compare in DB, if they have photos submitted\n",
    "dfcns=dfc[dfc[\"Photo Status\"]=='Not Submitted']\n",
    "\n",
    "## Export the file to a folder\n",
    "dfcns.to_csv(f\"C:/Users/Grad_Undergrad_Admitted_OPS_Status-Not_Submiitted-{currentDateTime}.csv\", index = False)"
   ]
  },
  {
   "cell_type": "markdown",
   "id": "38154382",
   "metadata": {},
   "source": [
    "### Get the GTIDs from this file and compare in DB to see how many have photos in DB. These are IDs with no photos in OPS with photos in DB"
   ]
  },
  {
   "cell_type": "code",
   "execution_count": 9,
   "id": "2dc835bf",
   "metadata": {},
   "outputs": [],
   "source": [
    "dfcts= pd.read_csv('C:/Users/TS_Approved_Photos.csv')\n",
    "\n",
    "## update the OPS status by updating the approved status of these IDs in the combined data frame dfc\n",
    "\n",
    "dfcts['GTID'] = dfcts['GTID'].apply(lambda x: str(x))\n",
    "dfcts['GTID'].astype(int).astype(str)\n",
    "\n",
    "dfc = dfc.set_index('GTID')\n",
    "dfcts = dfcts.set_index('GTID')\n",
    "dfc.update(dfcts)\n",
    "dfc.reset_index(inplace=True)"
   ]
  },
  {
   "cell_type": "code",
   "execution_count": 10,
   "id": "2aa42e3e",
   "metadata": {},
   "outputs": [
    {
     "data": {
      "text/html": [
       "<div>\n",
       "<style scoped>\n",
       "    .dataframe tbody tr th:only-of-type {\n",
       "        vertical-align: middle;\n",
       "    }\n",
       "\n",
       "    .dataframe tbody tr th {\n",
       "        vertical-align: top;\n",
       "    }\n",
       "\n",
       "    .dataframe thead th {\n",
       "        text-align: right;\n",
       "    }\n",
       "</style>\n",
       "<table border=\"1\" class=\"dataframe\">\n",
       "  <thead>\n",
       "    <tr style=\"text-align: right;\">\n",
       "      <th></th>\n",
       "      <th></th>\n",
       "      <th>GTID</th>\n",
       "    </tr>\n",
       "    <tr>\n",
       "      <th>Photo Status</th>\n",
       "      <th>Class</th>\n",
       "      <th></th>\n",
       "    </tr>\n",
       "  </thead>\n",
       "  <tbody>\n",
       "    <tr>\n",
       "      <th rowspan=\"2\" valign=\"top\">Approved</th>\n",
       "      <th>Grad</th>\n",
       "      <td>146</td>\n",
       "    </tr>\n",
       "    <tr>\n",
       "      <th>Undergrad</th>\n",
       "      <td>113</td>\n",
       "    </tr>\n",
       "    <tr>\n",
       "      <th rowspan=\"2\" valign=\"top\">Denied</th>\n",
       "      <th>Grad</th>\n",
       "      <td>7</td>\n",
       "    </tr>\n",
       "    <tr>\n",
       "      <th>Undergrad</th>\n",
       "      <td>4</td>\n",
       "    </tr>\n",
       "    <tr>\n",
       "      <th rowspan=\"2\" valign=\"top\">Not Submitted</th>\n",
       "      <th>Grad</th>\n",
       "      <td>77</td>\n",
       "    </tr>\n",
       "    <tr>\n",
       "      <th>Undergrad</th>\n",
       "      <td>240</td>\n",
       "    </tr>\n",
       "    <tr>\n",
       "      <th rowspan=\"2\" valign=\"top\">Pending</th>\n",
       "      <th>Grad</th>\n",
       "      <td>1</td>\n",
       "    </tr>\n",
       "    <tr>\n",
       "      <th>Undergrad</th>\n",
       "      <td>3</td>\n",
       "    </tr>\n",
       "  </tbody>\n",
       "</table>\n",
       "</div>"
      ],
      "text/plain": [
       "                         GTID\n",
       "Photo Status  Class          \n",
       "Approved      Grad        146\n",
       "              Undergrad   113\n",
       "Denied        Grad          7\n",
       "              Undergrad     4\n",
       "Not Submitted Grad         77\n",
       "              Undergrad   240\n",
       "Pending       Grad          1\n",
       "              Undergrad     3"
      ]
     },
     "execution_count": 10,
     "metadata": {},
     "output_type": "execute_result"
    }
   ],
   "source": [
    "dfc.groupby(['Photo Status','Class']).count()"
   ]
  },
  {
   "cell_type": "code",
   "execution_count": 11,
   "id": "8d30066e",
   "metadata": {},
   "outputs": [],
   "source": [
    "# Grab the \"Approved\" GTIDs from the above report and compare in DB, if they have photos submitted\n",
    "dfca=dfc[dfc[\"Photo Status\"]=='Approved']\n",
    "\n",
    "##create output file - approved photos\n",
    "dfca.to_csv(f\"C:/Users/Grad_Undergrad_Admitted_OPS_Status-Approved-{currentDateTime}.csv\", index = False)\n",
    "\n",
    "## create output- OPS status, update student card production file with the data below\n",
    "dfc.to_csv(f\"C:/Users/Grad_Undergrad_Admitted_OPS_Status-{currentDateTime}.csv\", index = False)"
   ]
  },
  {
   "cell_type": "code",
   "execution_count": null,
   "id": "5f6f848f",
   "metadata": {},
   "outputs": [],
   "source": []
  }
 ],
 "metadata": {
  "kernelspec": {
   "display_name": "Python 3 (ipykernel)",
   "language": "python",
   "name": "python3"
  },
  "language_info": {
   "codemirror_mode": {
    "name": "ipython",
    "version": 3
   },
   "file_extension": ".py",
   "mimetype": "text/x-python",
   "name": "python",
   "nbconvert_exporter": "python",
   "pygments_lexer": "ipython3",
   "version": "3.9.7"
  }
 },
 "nbformat": 4,
 "nbformat_minor": 5
}
